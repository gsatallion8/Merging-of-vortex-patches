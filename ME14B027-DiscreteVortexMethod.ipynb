{
 "cells": [
  {
   "cell_type": "code",
   "execution_count": 31,
   "metadata": {
    "collapsed": true
   },
   "outputs": [],
   "source": [
    "class vortexParticle:\n",
    "    def __init__(self, z=0.0+0.0j, gamma=0.0, r=0.1):\n",
    "        self.z=z\n",
    "        self.gamma=gamma\n",
    "        self.v=0.0+0.0j\n",
    "        self.r=r\n",
    "    def Set_z(self,z):\n",
    "        self.z=z\n",
    "    def Set_gamma(self,gamma):\n",
    "        self.gamma=gamma\n",
    "    def vel(self,z):\n",
    "        if(abs(z-self.z)<self.r):\n",
    "            return (self.gamma)*(z-self.z)*(1j)/(2*3.14159*(self.r)*(self.r))\n",
    "        else:\n",
    "            return (self.gamma)*(1j)/(2*3.14159*(z-self.z).conjugate())"
   ]
  },
  {
   "cell_type": "code",
   "execution_count": 32,
   "metadata": {
    "collapsed": false
   },
   "outputs": [],
   "source": [
    "import numpy as np"
   ]
  },
  {
   "cell_type": "code",
   "execution_count": 33,
   "metadata": {
    "collapsed": false
   },
   "outputs": [],
   "source": [
    "with open('VortexMerging_40.txt') as f:\n",
    "    Data = []\n",
    "    for line in f:\n",
    "        line = line.split()\n",
    "        if line:\n",
    "            line = [float(x) for x in line]\n",
    "            Data.append(line)\n",
    "n=Data[0][0]\n",
    "dt=Data[0][1]\n",
    "nSteps=Data[0][2]\n",
    "i=1\n",
    "vp=[]\n",
    "while i<n+1:\n",
    "    vp.append(Data[i])\n",
    "    i+=1"
   ]
  },
  {
   "cell_type": "code",
   "execution_count": 34,
   "metadata": {
    "collapsed": false
   },
   "outputs": [],
   "source": [
    "n=int(n)\n",
    "nSteps=int(nSteps)"
   ]
  },
  {
   "cell_type": "code",
   "execution_count": 35,
   "metadata": {
    "collapsed": false
   },
   "outputs": [],
   "source": [
    "Patch=np.empty((nSteps,n),dtype=object)"
   ]
  },
  {
   "cell_type": "code",
   "execution_count": 36,
   "metadata": {
    "collapsed": false
   },
   "outputs": [],
   "source": [
    "i=0\n",
    "a=0.1\n",
    "while i<n:\n",
    "    Patch[0,i]=vortexParticle(vp[i][1]+vp[i][2]*1j,vp[i][0],a)\n",
    "    i+=1"
   ]
  },
  {
   "cell_type": "code",
   "execution_count": 37,
   "metadata": {
    "collapsed": false
   },
   "outputs": [],
   "source": [
    "t=0\n",
    "while t<nSteps-1:\n",
    "    i=0\n",
    "    while i<n:\n",
    "        j=0\n",
    "        while j<n:\n",
    "            Patch[t,i].v+=Patch[t,j].vel(Patch[t,i].z)\n",
    "            j+=1\n",
    "        Patch[t+1,i]=vortexParticle(Patch[t,i].z+Patch[t,i].v*dt,Patch[t,i].gamma,Patch[t,i].r)\n",
    "        i+=1\n",
    "    t+=1"
   ]
  },
  {
   "cell_type": "code",
   "execution_count": 38,
   "metadata": {
    "collapsed": true
   },
   "outputs": [],
   "source": [
    "import matplotlib.pyplot as plt"
   ]
  },
  {
   "cell_type": "code",
   "execution_count": null,
   "metadata": {
    "collapsed": false
   },
   "outputs": [],
   "source": [
    "t=0\n",
    "while t<nSteps:\n",
    "    i=0\n",
    "    fig=plt.figure()\n",
    "    plt.xlim(-5,5)\n",
    "    plt.ylim(-5,5)\n",
    "    while i<n/2:\n",
    "        plt.scatter(Patch[t,i].z.real,Patch[t,i].z.imag,color='r')\n",
    "        i+=1\n",
    "    while i<n:\n",
    "        plt.scatter(Patch[t,i].z.real,Patch[t,i].z.imag,color='b')\n",
    "        i+=1\n",
    "    s=\"VortexMerge_%d.png\"%t \n",
    "    fig.savefig(s)\n",
    "    plt.close(fig)\n",
    "    t+=nSteps/1000"
   ]
  },
  {
   "cell_type": "code",
   "execution_count": null,
   "metadata": {
    "collapsed": true
   },
   "outputs": [],
   "source": []
  }
 ],
 "metadata": {
  "kernelspec": {
   "display_name": "Python 2",
   "language": "python",
   "name": "python2"
  },
  "language_info": {
   "codemirror_mode": {
    "name": "ipython",
    "version": 2
   },
   "file_extension": ".py",
   "mimetype": "text/x-python",
   "name": "python",
   "nbconvert_exporter": "python",
   "pygments_lexer": "ipython2",
   "version": "2.7.11"
  }
 },
 "nbformat": 4,
 "nbformat_minor": 0
}
